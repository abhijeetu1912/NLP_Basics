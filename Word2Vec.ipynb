{
  "nbformat": 4,
  "nbformat_minor": 0,
  "metadata": {
    "colab": {
      "name": "Word2Vec.ipynb",
      "provenance": [],
      "collapsed_sections": [],
      "machine_shape": "hm"
    },
    "kernelspec": {
      "name": "python3",
      "display_name": "Python 3"
    }
  },
  "cells": [
    {
      "cell_type": "markdown",
      "metadata": {
        "id": "WHC_UQTuCAY4"
      },
      "source": [
        "## Mounting Google Drive"
      ]
    },
    {
      "cell_type": "code",
      "metadata": {
        "colab": {
          "base_uri": "https://localhost:8080/"
        },
        "id": "qPjBqTbcD7tQ",
        "outputId": "ca5f8c0b-5c9e-4b84-bd09-739e7ffb03eb"
      },
      "source": [
        "from google.colab import drive\n",
        "drive.mount('/content/drive')"
      ],
      "execution_count": 1,
      "outputs": [
        {
          "output_type": "stream",
          "text": [
            "Drive already mounted at /content/drive; to attempt to forcibly remount, call drive.mount(\"/content/drive\", force_remount=True).\n"
          ],
          "name": "stdout"
        }
      ]
    },
    {
      "cell_type": "markdown",
      "metadata": {
        "id": "9zEalYYOZnlS"
      },
      "source": [
        "## Loading Required Libraries"
      ]
    },
    {
      "cell_type": "code",
      "metadata": {
        "colab": {
          "base_uri": "https://localhost:8080/"
        },
        "id": "xKgr5QzxD-PA",
        "outputId": "e53f8de2-5ada-401d-ea18-0236ef59cc20"
      },
      "source": [
        "%matplotlib inline\n",
        "import warnings\n",
        "warnings.filterwarnings(\"ignore\")\n",
        "\n",
        "import sqlite3\n",
        "import pandas as pd\n",
        "import numpy as np\n",
        "import nltk\n",
        "nltk.download('punkt')\n",
        "nltk.download('stopwords')\n",
        "import re\n",
        "import string\n",
        "import matplotlib.pyplot as plt\n",
        "import seaborn as sns\n",
        "\n",
        "from nltk.tokenize import word_tokenize \n",
        "from nltk.corpus import stopwords\n",
        "from nltk.stem import PorterStemmer\n",
        "\n",
        "from sklearn.feature_extraction.text import TfidfTransformer\n",
        "from sklearn.feature_extraction.text import TfidfVectorizer\n",
        "from gensim.models import Word2Vec\n",
        "from gensim.corpora import Dictionary\n",
        "from gensim.models import TfidfModel"
      ],
      "execution_count": 2,
      "outputs": [
        {
          "output_type": "stream",
          "text": [
            "[nltk_data] Downloading package punkt to /root/nltk_data...\n",
            "[nltk_data]   Package punkt is already up-to-date!\n",
            "[nltk_data] Downloading package stopwords to /root/nltk_data...\n",
            "[nltk_data]   Package stopwords is already up-to-date!\n"
          ],
          "name": "stdout"
        }
      ]
    },
    {
      "cell_type": "markdown",
      "metadata": {
        "id": "QOI7X2YgCAY_"
      },
      "source": [
        "## Reading Data"
      ]
    },
    {
      "cell_type": "code",
      "metadata": {
        "colab": {
          "base_uri": "https://localhost:8080/",
          "height": 296
        },
        "id": "DHq5UX6iD-MA",
        "outputId": "2f73d297-027b-40bc-c03d-f8a337c2ce2f"
      },
      "source": [
        "# using the SQLite Table to read data.\n",
        "con = sqlite3.connect(F'/content/drive/MyDrive/Aazon_Review_Data/database.sqlite') \n",
        "\n",
        "#filtering only positive and negative reviews i.e. ignoring neutral reviews with Score = 3\n",
        "df = pd.read_sql_query(\"\"\" SELECT * FROM Reviews WHERE Score != 3\"\"\", con)\n",
        "print(df.shape)\n",
        "df.head()"
      ],
      "execution_count": 3,
      "outputs": [
        {
          "output_type": "stream",
          "text": [
            "(525814, 10)\n"
          ],
          "name": "stdout"
        },
        {
          "output_type": "execute_result",
          "data": {
            "text/html": [
              "<div>\n",
              "<style scoped>\n",
              "    .dataframe tbody tr th:only-of-type {\n",
              "        vertical-align: middle;\n",
              "    }\n",
              "\n",
              "    .dataframe tbody tr th {\n",
              "        vertical-align: top;\n",
              "    }\n",
              "\n",
              "    .dataframe thead th {\n",
              "        text-align: right;\n",
              "    }\n",
              "</style>\n",
              "<table border=\"1\" class=\"dataframe\">\n",
              "  <thead>\n",
              "    <tr style=\"text-align: right;\">\n",
              "      <th></th>\n",
              "      <th>Id</th>\n",
              "      <th>ProductId</th>\n",
              "      <th>UserId</th>\n",
              "      <th>ProfileName</th>\n",
              "      <th>HelpfulnessNumerator</th>\n",
              "      <th>HelpfulnessDenominator</th>\n",
              "      <th>Score</th>\n",
              "      <th>Time</th>\n",
              "      <th>Summary</th>\n",
              "      <th>Text</th>\n",
              "    </tr>\n",
              "  </thead>\n",
              "  <tbody>\n",
              "    <tr>\n",
              "      <th>0</th>\n",
              "      <td>1</td>\n",
              "      <td>B001E4KFG0</td>\n",
              "      <td>A3SGXH7AUHU8GW</td>\n",
              "      <td>delmartian</td>\n",
              "      <td>1</td>\n",
              "      <td>1</td>\n",
              "      <td>5</td>\n",
              "      <td>1303862400</td>\n",
              "      <td>Good Quality Dog Food</td>\n",
              "      <td>I have bought several of the Vitality canned d...</td>\n",
              "    </tr>\n",
              "    <tr>\n",
              "      <th>1</th>\n",
              "      <td>2</td>\n",
              "      <td>B00813GRG4</td>\n",
              "      <td>A1D87F6ZCVE5NK</td>\n",
              "      <td>dll pa</td>\n",
              "      <td>0</td>\n",
              "      <td>0</td>\n",
              "      <td>1</td>\n",
              "      <td>1346976000</td>\n",
              "      <td>Not as Advertised</td>\n",
              "      <td>Product arrived labeled as Jumbo Salted Peanut...</td>\n",
              "    </tr>\n",
              "    <tr>\n",
              "      <th>2</th>\n",
              "      <td>3</td>\n",
              "      <td>B000LQOCH0</td>\n",
              "      <td>ABXLMWJIXXAIN</td>\n",
              "      <td>Natalia Corres \"Natalia Corres\"</td>\n",
              "      <td>1</td>\n",
              "      <td>1</td>\n",
              "      <td>4</td>\n",
              "      <td>1219017600</td>\n",
              "      <td>\"Delight\" says it all</td>\n",
              "      <td>This is a confection that has been around a fe...</td>\n",
              "    </tr>\n",
              "    <tr>\n",
              "      <th>3</th>\n",
              "      <td>4</td>\n",
              "      <td>B000UA0QIQ</td>\n",
              "      <td>A395BORC6FGVXV</td>\n",
              "      <td>Karl</td>\n",
              "      <td>3</td>\n",
              "      <td>3</td>\n",
              "      <td>2</td>\n",
              "      <td>1307923200</td>\n",
              "      <td>Cough Medicine</td>\n",
              "      <td>If you are looking for the secret ingredient i...</td>\n",
              "    </tr>\n",
              "    <tr>\n",
              "      <th>4</th>\n",
              "      <td>5</td>\n",
              "      <td>B006K2ZZ7K</td>\n",
              "      <td>A1UQRSCLF8GW1T</td>\n",
              "      <td>Michael D. Bigham \"M. Wassir\"</td>\n",
              "      <td>0</td>\n",
              "      <td>0</td>\n",
              "      <td>5</td>\n",
              "      <td>1350777600</td>\n",
              "      <td>Great taffy</td>\n",
              "      <td>Great taffy at a great price.  There was a wid...</td>\n",
              "    </tr>\n",
              "  </tbody>\n",
              "</table>\n",
              "</div>"
            ],
            "text/plain": [
              "   Id  ...                                               Text\n",
              "0   1  ...  I have bought several of the Vitality canned d...\n",
              "1   2  ...  Product arrived labeled as Jumbo Salted Peanut...\n",
              "2   3  ...  This is a confection that has been around a fe...\n",
              "3   4  ...  If you are looking for the secret ingredient i...\n",
              "4   5  ...  Great taffy at a great price.  There was a wid...\n",
              "\n",
              "[5 rows x 10 columns]"
            ]
          },
          "metadata": {
            "tags": []
          },
          "execution_count": 3
        }
      ]
    },
    {
      "cell_type": "code",
      "metadata": {
        "colab": {
          "base_uri": "https://localhost:8080/"
        },
        "id": "-EvpYkyXD-Gd",
        "outputId": "86212909-32f6-4233-cd97-42861bf7ce83"
      },
      "source": [
        "#proprtion of review scores\n",
        "df.Score.value_counts()"
      ],
      "execution_count": 4,
      "outputs": [
        {
          "output_type": "execute_result",
          "data": {
            "text/plain": [
              "5    363122\n",
              "4     80655\n",
              "1     52268\n",
              "2     29769\n",
              "Name: Score, dtype: int64"
            ]
          },
          "metadata": {
            "tags": []
          },
          "execution_count": 4
        }
      ]
    },
    {
      "cell_type": "code",
      "metadata": {
        "colab": {
          "base_uri": "https://localhost:8080/",
          "height": 186
        },
        "id": "i5FbgqMFD-EJ",
        "outputId": "ca2f2fec-c0e6-4e7b-95dc-eaee57a4248c"
      },
      "source": [
        "# Give reviews with Score>3 a positive rating, and reviews with a score<3 a negative rating.\n",
        "df['Score'] = np.where(df['Score'] > 3, 1, 0)\n",
        "df.head(3)"
      ],
      "execution_count": 5,
      "outputs": [
        {
          "output_type": "execute_result",
          "data": {
            "text/html": [
              "<div>\n",
              "<style scoped>\n",
              "    .dataframe tbody tr th:only-of-type {\n",
              "        vertical-align: middle;\n",
              "    }\n",
              "\n",
              "    .dataframe tbody tr th {\n",
              "        vertical-align: top;\n",
              "    }\n",
              "\n",
              "    .dataframe thead th {\n",
              "        text-align: right;\n",
              "    }\n",
              "</style>\n",
              "<table border=\"1\" class=\"dataframe\">\n",
              "  <thead>\n",
              "    <tr style=\"text-align: right;\">\n",
              "      <th></th>\n",
              "      <th>Id</th>\n",
              "      <th>ProductId</th>\n",
              "      <th>UserId</th>\n",
              "      <th>ProfileName</th>\n",
              "      <th>HelpfulnessNumerator</th>\n",
              "      <th>HelpfulnessDenominator</th>\n",
              "      <th>Score</th>\n",
              "      <th>Time</th>\n",
              "      <th>Summary</th>\n",
              "      <th>Text</th>\n",
              "    </tr>\n",
              "  </thead>\n",
              "  <tbody>\n",
              "    <tr>\n",
              "      <th>0</th>\n",
              "      <td>1</td>\n",
              "      <td>B001E4KFG0</td>\n",
              "      <td>A3SGXH7AUHU8GW</td>\n",
              "      <td>delmartian</td>\n",
              "      <td>1</td>\n",
              "      <td>1</td>\n",
              "      <td>1</td>\n",
              "      <td>1303862400</td>\n",
              "      <td>Good Quality Dog Food</td>\n",
              "      <td>I have bought several of the Vitality canned d...</td>\n",
              "    </tr>\n",
              "    <tr>\n",
              "      <th>1</th>\n",
              "      <td>2</td>\n",
              "      <td>B00813GRG4</td>\n",
              "      <td>A1D87F6ZCVE5NK</td>\n",
              "      <td>dll pa</td>\n",
              "      <td>0</td>\n",
              "      <td>0</td>\n",
              "      <td>0</td>\n",
              "      <td>1346976000</td>\n",
              "      <td>Not as Advertised</td>\n",
              "      <td>Product arrived labeled as Jumbo Salted Peanut...</td>\n",
              "    </tr>\n",
              "    <tr>\n",
              "      <th>2</th>\n",
              "      <td>3</td>\n",
              "      <td>B000LQOCH0</td>\n",
              "      <td>ABXLMWJIXXAIN</td>\n",
              "      <td>Natalia Corres \"Natalia Corres\"</td>\n",
              "      <td>1</td>\n",
              "      <td>1</td>\n",
              "      <td>1</td>\n",
              "      <td>1219017600</td>\n",
              "      <td>\"Delight\" says it all</td>\n",
              "      <td>This is a confection that has been around a fe...</td>\n",
              "    </tr>\n",
              "  </tbody>\n",
              "</table>\n",
              "</div>"
            ],
            "text/plain": [
              "   Id  ...                                               Text\n",
              "0   1  ...  I have bought several of the Vitality canned d...\n",
              "1   2  ...  Product arrived labeled as Jumbo Salted Peanut...\n",
              "2   3  ...  This is a confection that has been around a fe...\n",
              "\n",
              "[3 rows x 10 columns]"
            ]
          },
          "metadata": {
            "tags": []
          },
          "execution_count": 5
        }
      ]
    },
    {
      "cell_type": "markdown",
      "metadata": {
        "id": "TX5b3dc5CAZS"
      },
      "source": [
        "## Data Cleaning"
      ]
    },
    {
      "cell_type": "code",
      "metadata": {
        "id": "Ecj9mkDJD9-n"
      },
      "source": [
        "#Sorting data according to ProductId in ascending order\n",
        "df.sort_values('ProductId', axis = 0, ascending = True, inplace = True, kind = 'quicksort', na_position = 'last')"
      ],
      "execution_count": 6,
      "outputs": []
    },
    {
      "cell_type": "code",
      "metadata": {
        "colab": {
          "base_uri": "https://localhost:8080/"
        },
        "id": "ZHn521FSD9yq",
        "outputId": "a917f2c3-9996-4336-e9ed-f4f1e40a398f"
      },
      "source": [
        "#Deduplication of entries\n",
        "df.drop_duplicates(subset={\"UserId\",\"ProfileName\",\"Time\",\"Text\"}, keep ='first', inplace = True)\n",
        "df.shape"
      ],
      "execution_count": 7,
      "outputs": [
        {
          "output_type": "execute_result",
          "data": {
            "text/plain": [
              "(364173, 10)"
            ]
          },
          "metadata": {
            "tags": []
          },
          "execution_count": 7
        }
      ]
    },
    {
      "cell_type": "markdown",
      "metadata": {
        "id": "LO5nLKeFCAZf"
      },
      "source": [
        "<b>Insight:-</b> In some rows, value of HelpfulnessNumerator can be greater than HelpfulnessDenominator which is not practically possible hence these two rows too are removed from calcualtions.\n",
        "It is not possible that more number of people found these reviews useful compared to number of people who have seen this review."
      ]
    },
    {
      "cell_type": "code",
      "metadata": {
        "colab": {
          "base_uri": "https://localhost:8080/"
        },
        "id": "WdtjeWdiETM0",
        "outputId": "5154ec07-b30d-4959-bd7c-834cdf6812c0"
      },
      "source": [
        "#removing records with HelpfulnessNumerator > HelpfulnessDenominator\n",
        "df = df[df.HelpfulnessNumerator <= df.HelpfulnessDenominator]\n",
        "df.shape"
      ],
      "execution_count": 8,
      "outputs": [
        {
          "output_type": "execute_result",
          "data": {
            "text/plain": [
              "(364171, 10)"
            ]
          },
          "metadata": {
            "tags": []
          },
          "execution_count": 8
        }
      ]
    },
    {
      "cell_type": "code",
      "metadata": {
        "colab": {
          "base_uri": "https://localhost:8080/",
          "height": 195
        },
        "id": "-Mba4eD1ETJz",
        "outputId": "207bd0bb-115a-44ca-ba85-279bb65a48cd"
      },
      "source": [
        "#selecting required columns\n",
        "df = df[['Text', 'Score']]\n",
        "df.head()"
      ],
      "execution_count": 9,
      "outputs": [
        {
          "output_type": "execute_result",
          "data": {
            "text/html": [
              "<div>\n",
              "<style scoped>\n",
              "    .dataframe tbody tr th:only-of-type {\n",
              "        vertical-align: middle;\n",
              "    }\n",
              "\n",
              "    .dataframe tbody tr th {\n",
              "        vertical-align: top;\n",
              "    }\n",
              "\n",
              "    .dataframe thead th {\n",
              "        text-align: right;\n",
              "    }\n",
              "</style>\n",
              "<table border=\"1\" class=\"dataframe\">\n",
              "  <thead>\n",
              "    <tr style=\"text-align: right;\">\n",
              "      <th></th>\n",
              "      <th>Text</th>\n",
              "      <th>Score</th>\n",
              "    </tr>\n",
              "  </thead>\n",
              "  <tbody>\n",
              "    <tr>\n",
              "      <th>138706</th>\n",
              "      <td>this witty little book makes my son laugh at l...</td>\n",
              "      <td>1</td>\n",
              "    </tr>\n",
              "    <tr>\n",
              "      <th>138688</th>\n",
              "      <td>I grew up reading these Sendak books, and watc...</td>\n",
              "      <td>1</td>\n",
              "    </tr>\n",
              "    <tr>\n",
              "      <th>138689</th>\n",
              "      <td>This is a fun way for children to learn their ...</td>\n",
              "      <td>1</td>\n",
              "    </tr>\n",
              "    <tr>\n",
              "      <th>138690</th>\n",
              "      <td>This is a great little book to read aloud- it ...</td>\n",
              "      <td>1</td>\n",
              "    </tr>\n",
              "    <tr>\n",
              "      <th>138691</th>\n",
              "      <td>This is a book of poetry about the months of t...</td>\n",
              "      <td>1</td>\n",
              "    </tr>\n",
              "  </tbody>\n",
              "</table>\n",
              "</div>"
            ],
            "text/plain": [
              "                                                     Text  Score\n",
              "138706  this witty little book makes my son laugh at l...      1\n",
              "138688  I grew up reading these Sendak books, and watc...      1\n",
              "138689  This is a fun way for children to learn their ...      1\n",
              "138690  This is a great little book to read aloud- it ...      1\n",
              "138691  This is a book of poetry about the months of t...      1"
            ]
          },
          "metadata": {
            "tags": []
          },
          "execution_count": 9
        }
      ]
    },
    {
      "cell_type": "code",
      "metadata": {
        "colab": {
          "base_uri": "https://localhost:8080/"
        },
        "id": "vM0Cy_iIETGA",
        "outputId": "f921f4fb-57bf-46ed-dab9-349f97f38455"
      },
      "source": [
        "#Distribution of +ve and -ve Reviews\n",
        "df['Score'].value_counts()"
      ],
      "execution_count": 10,
      "outputs": [
        {
          "output_type": "execute_result",
          "data": {
            "text/plain": [
              "1    307061\n",
              "0     57110\n",
              "Name: Score, dtype: int64"
            ]
          },
          "metadata": {
            "tags": []
          },
          "execution_count": 10
        }
      ]
    },
    {
      "cell_type": "markdown",
      "metadata": {
        "id": "RxBsuBylCAZr"
      },
      "source": [
        "## Text Preprocessing"
      ]
    },
    {
      "cell_type": "code",
      "metadata": {
        "id": "S-XnedncQHZk"
      },
      "source": [
        "#stopwords \n",
        "stop_words = stopwords.words('english') \n",
        "negative = [\"no\", \"nor\", \"not\", 'ain', 'aren', \"aren't\", 'couldn', \"couldn't\", 'didn', \"didn't\", 'doesn',\n",
        "          \"doesn't\", 'hadn', \"hadn't\", 'hasn', \"hasn't\", 'haven', \"haven't\", 'isn', \"isn't\", 'mightn',\n",
        "          \"mightn't\", 'mustn', \"mustn't\", 'needn', \"needn't\", 'shan', \"shan't\", 'shouldn', \"shouldn't\",\n",
        "          'wasn', \"wasn't\", 'weren', \"weren't\", 'won', \"won't\", 'wouldn', \"wouldn't\", 'don', \"don't\"]\n",
        "stop_words = [x for x in stop_words if x not in negative]\n",
        "\n",
        "#stemming\n",
        "stemmer = PorterStemmer()  \n",
        "\n",
        "#function to replace negative words by not to reduce the dimension of data\n",
        "def replace_by_not(x):\n",
        "    if x in negative:\n",
        "       x = 'not'\n",
        "    return x"
      ],
      "execution_count": 11,
      "outputs": []
    },
    {
      "cell_type": "code",
      "metadata": {
        "id": "0gOBF2RFaoIE"
      },
      "source": [
        "#text preprocessing function for regular nlp usecase\n",
        "'''\n",
        "def preprocess(text):\n",
        "    text = text.lower()                                                         #to lower case\n",
        "    text = re.sub('http[s]?://\\S+', ' ', text)                                  #removing urls\n",
        "    text = re.sub('<[^<]+?>', ' ', text)                                        #removing html tags\n",
        "    text = re.sub('\\S*\\d\\S*', ' ', text)                                        #removing alphanumeric words\n",
        "    text = re.sub('[^A-Za-z]+', ' ', text)                                      #removing special characters\n",
        "    text = re.sub(r'\\b[a-zA-Z]\\b', ' ', text)                                   #removing single character (length) words\n",
        "    text = re.sub('\\s{2,}', ' ', text)                                          #removing multiple white spaces\n",
        "    text = text.strip()                                                         #removing spaces from start & end of the text\n",
        "    text_tokenized = word_tokenize(text)                                        #tokenization\n",
        "    \n",
        "    tokens = []\n",
        "    for token in text_tokenized:                              \n",
        "        if token not in stop_words:                                             #removing stopwords  \n",
        "            token = replace_by_not(token)                                       #replacing negative words by \"NOT\" to reduce the dimension of data       \n",
        "            token = stemmer.stem(token)                                         #stemming\n",
        "            tokens.append(token)                           \n",
        "    #return \" \".join(tokens) \n",
        "'''"
      ],
      "execution_count": null,
      "outputs": []
    },
    {
      "cell_type": "markdown",
      "metadata": {
        "id": "1alA753Ja0EA"
      },
      "source": [
        "For word2vec, stemming and lemmatization is not advised, so we will be not using in our text pre-processing function"
      ]
    },
    {
      "cell_type": "code",
      "metadata": {
        "id": "2v-MJZltETD6"
      },
      "source": [
        "#text preprocessing function\n",
        "def preprocess(text):\n",
        "    text = text.lower()                                                         #to lower case\n",
        "    text = re.sub('http[s]?://\\S+', ' ', text)                                  #removing urls\n",
        "    text = re.sub('<[^<]+?>', ' ', text)                                        #removing html tags\n",
        "    text = re.sub('\\S*\\d\\S*', ' ', text)                                        #removing alphanumeric words\n",
        "    text = re.sub('[^A-Za-z]+', ' ', text)                                      #removing special characters\n",
        "    text = re.sub(r'\\b[a-zA-Z]\\b', ' ', text)                                   #removing single character (length) words\n",
        "    text = re.sub('\\s{2,}', ' ', text)                                          #removing multiple white spaces\n",
        "    text = text.strip()                                                         #removing spaces from start & end of the text\n",
        "    text_tokenized = word_tokenize(text)                                        #tokenization\n",
        "    \n",
        "    tokens = []\n",
        "    for token in text_tokenized:                              \n",
        "        if token not in stop_words:                                             #removing stopwords  \n",
        "            token = replace_by_not(token)                                       #replacing negative words by \"NOT\" to reduce the dimension of data       \n",
        "            tokens.append(token)                                                #returns text back in sentence form\n",
        "    return tokens                                                               #returns tokenized text in list"
      ],
      "execution_count": 13,
      "outputs": []
    },
    {
      "cell_type": "code",
      "metadata": {
        "colab": {
          "base_uri": "https://localhost:8080/",
          "height": 195
        },
        "id": "GJEwpJdQETAT",
        "outputId": "abc3b3a2-d0ee-47a4-cc48-cf7001edf2ba"
      },
      "source": [
        "df['Text'] = df['Text'].apply(lambda x: preprocess(x))\n",
        "df.head()"
      ],
      "execution_count": 14,
      "outputs": [
        {
          "output_type": "execute_result",
          "data": {
            "text/html": [
              "<div>\n",
              "<style scoped>\n",
              "    .dataframe tbody tr th:only-of-type {\n",
              "        vertical-align: middle;\n",
              "    }\n",
              "\n",
              "    .dataframe tbody tr th {\n",
              "        vertical-align: top;\n",
              "    }\n",
              "\n",
              "    .dataframe thead th {\n",
              "        text-align: right;\n",
              "    }\n",
              "</style>\n",
              "<table border=\"1\" class=\"dataframe\">\n",
              "  <thead>\n",
              "    <tr style=\"text-align: right;\">\n",
              "      <th></th>\n",
              "      <th>Text</th>\n",
              "      <th>Score</th>\n",
              "    </tr>\n",
              "  </thead>\n",
              "  <tbody>\n",
              "    <tr>\n",
              "      <th>138706</th>\n",
              "      <td>[witty, little, book, makes, son, laugh, loud,...</td>\n",
              "      <td>1</td>\n",
              "    </tr>\n",
              "    <tr>\n",
              "      <th>138688</th>\n",
              "      <td>[grew, reading, sendak, books, watching, reall...</td>\n",
              "      <td>1</td>\n",
              "    </tr>\n",
              "    <tr>\n",
              "      <th>138689</th>\n",
              "      <td>[fun, way, children, learn, months, year, lear...</td>\n",
              "      <td>1</td>\n",
              "    </tr>\n",
              "    <tr>\n",
              "      <th>138690</th>\n",
              "      <td>[great, little, book, read, aloud, nice, rhyth...</td>\n",
              "      <td>1</td>\n",
              "    </tr>\n",
              "    <tr>\n",
              "      <th>138691</th>\n",
              "      <td>[book, poetry, months, year, goes, month, cute...</td>\n",
              "      <td>1</td>\n",
              "    </tr>\n",
              "  </tbody>\n",
              "</table>\n",
              "</div>"
            ],
            "text/plain": [
              "                                                     Text  Score\n",
              "138706  [witty, little, book, makes, son, laugh, loud,...      1\n",
              "138688  [grew, reading, sendak, books, watching, reall...      1\n",
              "138689  [fun, way, children, learn, months, year, lear...      1\n",
              "138690  [great, little, book, read, aloud, nice, rhyth...      1\n",
              "138691  [book, poetry, months, year, goes, month, cute...      1"
            ]
          },
          "metadata": {
            "tags": []
          },
          "execution_count": 14
        }
      ]
    },
    {
      "cell_type": "code",
      "metadata": {
        "id": "AhEWhR0qES93"
      },
      "source": [
        "#Extracting X & y for Training\n",
        "X = df['Text']\n",
        "y = df['Score']"
      ],
      "execution_count": 15,
      "outputs": []
    },
    {
      "cell_type": "markdown",
      "metadata": {
        "id": "z8SQHfPBppHa"
      },
      "source": [
        "### TF-IDF"
      ]
    },
    {
      "cell_type": "code",
      "metadata": {
        "colab": {
          "base_uri": "https://localhost:8080/"
        },
        "id": "ZXfxIYBxpp2A",
        "outputId": "2f16ad5c-d387-4c57-bd9b-b4d5156b1519"
      },
      "source": [
        "#tf-idf\n",
        "tfidf_vect = TfidfVectorizer(token_pattern = None, tokenizer = lambda doc: doc, preprocessor = lambda doc: doc)\n",
        "tfidf_vect.fit(X)"
      ],
      "execution_count": 16,
      "outputs": [
        {
          "output_type": "execute_result",
          "data": {
            "text/plain": [
              "TfidfVectorizer(analyzer='word', binary=False, decode_error='strict',\n",
              "                dtype=<class 'numpy.float64'>, encoding='utf-8',\n",
              "                input='content', lowercase=True, max_df=1.0, max_features=None,\n",
              "                min_df=1, ngram_range=(1, 1), norm='l2',\n",
              "                preprocessor=<function <lambda> at 0x7f738a9e5b90>,\n",
              "                smooth_idf=True, stop_words=None, strip_accents=None,\n",
              "                sublinear_tf=False, token_pattern=None,\n",
              "                tokenizer=<function <lambda> at 0x7f738a9e5cb0>, use_idf=True,\n",
              "                vocabulary=None)"
            ]
          },
          "metadata": {
            "tags": []
          },
          "execution_count": 16
        }
      ]
    },
    {
      "cell_type": "code",
      "metadata": {
        "id": "FDB6EKxaywxT"
      },
      "source": [
        "#dictionary of words and corresponding tf-idf value\n",
        "tfidf_dict = dict(zip(tfidf_vect.get_feature_names(), list(tfidf_vect.idf_)))"
      ],
      "execution_count": 17,
      "outputs": []
    },
    {
      "cell_type": "markdown",
      "metadata": {
        "id": "OPRqyrEmZ_zT"
      },
      "source": [
        "## Word2Vec"
      ]
    },
    {
      "cell_type": "markdown",
      "metadata": {
        "id": "Bo0YIC50gBpy"
      },
      "source": [
        "### Building Word2Vec Model"
      ]
    },
    {
      "cell_type": "code",
      "metadata": {
        "id": "HfspgVaYES64"
      },
      "source": [
        "#word2vec model using gensim library\n",
        "word2vec = Word2Vec(X, min_count = 10, window = 10, size = 64, workers = 3)"
      ],
      "execution_count": 18,
      "outputs": []
    },
    {
      "cell_type": "markdown",
      "metadata": {
        "id": "4f93CMZSnMpJ"
      },
      "source": [
        "### Vocabulary of Word2Vec Model"
      ]
    },
    {
      "cell_type": "code",
      "metadata": {
        "id": "WWlR1u9wnRK2"
      },
      "source": [
        "#vobabulary of word2vec model\n",
        "vocabulary = word2vec.wv.vocab"
      ],
      "execution_count": null,
      "outputs": []
    },
    {
      "cell_type": "markdown",
      "metadata": {
        "id": "-teXIWDkgJTI"
      },
      "source": [
        "### Creating Vector Representation of a Word"
      ]
    },
    {
      "cell_type": "code",
      "metadata": {
        "colab": {
          "base_uri": "https://localhost:8080/"
        },
        "id": "ttjgAxAIES4O",
        "outputId": "93b7f5a9-f8e2-49f0-b8ee-b76731ee8590"
      },
      "source": [
        "#calculate vector for a word\n",
        "word2vec.wv['dog']"
      ],
      "execution_count": 20,
      "outputs": [
        {
          "output_type": "execute_result",
          "data": {
            "text/plain": [
              "array([ 0.7229124 , -3.4830492 ,  4.244896  ,  0.70068   ,  0.07882409,\n",
              "       -2.6090617 , -1.3388602 ,  0.35897344, -3.4839792 , -1.2036916 ,\n",
              "       -0.20898417,  3.1573386 ,  1.6266875 ,  2.5189881 ,  1.8964871 ,\n",
              "       -6.4068894 ,  2.113712  ,  4.3559256 ,  1.5529048 , -2.9751668 ,\n",
              "       -5.738968  ,  1.7389332 , -0.30703536, -4.9913597 ,  0.9612307 ,\n",
              "        0.9580144 ,  3.6220937 ,  1.46552   ,  0.8251408 , -5.970856  ,\n",
              "       -6.1367397 , -1.924054  , -3.1767282 ,  5.8738804 , -4.216028  ,\n",
              "        0.36617166, -1.631965  ,  2.5191867 ,  5.2866163 ,  4.262648  ,\n",
              "        1.418561  ,  3.0736923 , -0.32477742, -0.3761637 , -0.4259393 ,\n",
              "        4.8278246 , -2.2038004 , -0.07478376, -1.202969  , -1.4905683 ,\n",
              "        3.5475652 , -2.2692435 ,  1.3682714 ,  0.7110651 ,  0.04366476,\n",
              "       -1.1621705 , -2.278641  ,  8.123048  ,  5.2455087 ,  1.7950321 ,\n",
              "        1.8934386 ,  2.6983702 , -0.01424707,  1.9505115 ], dtype=float32)"
            ]
          },
          "metadata": {
            "tags": []
          },
          "execution_count": 20
        }
      ]
    },
    {
      "cell_type": "markdown",
      "metadata": {
        "id": "rbkuqrcDgTmT"
      },
      "source": [
        "### Similar Word"
      ]
    },
    {
      "cell_type": "code",
      "metadata": {
        "colab": {
          "base_uri": "https://localhost:8080/"
        },
        "id": "bkaE7sLVES2H",
        "outputId": "c9b97e92-02be-41b6-ae4d-9c39ee02c1ba"
      },
      "source": [
        "#finding similar words\n",
        "word2vec.wv.most_similar('dog')"
      ],
      "execution_count": 21,
      "outputs": [
        {
          "output_type": "execute_result",
          "data": {
            "text/plain": [
              "[('pup', 0.875423789024353),\n",
              " ('dogs', 0.8712745904922485),\n",
              " ('puppy', 0.8593417406082153),\n",
              " ('pooch', 0.8139731884002686),\n",
              " ('pups', 0.7978197336196899),\n",
              " ('gsd', 0.7693132162094116),\n",
              " ('yorkie', 0.7663488984107971),\n",
              " ('doggies', 0.7636624574661255),\n",
              " ('doggie', 0.7470970749855042),\n",
              " ('cat', 0.7420973181724548)]"
            ]
          },
          "metadata": {
            "tags": []
          },
          "execution_count": 21
        }
      ]
    },
    {
      "cell_type": "code",
      "metadata": {
        "colab": {
          "base_uri": "https://localhost:8080/"
        },
        "id": "2FrsVpB1ESye",
        "outputId": "9380a4f6-9ee4-4f9a-f452-f17f701dc76d"
      },
      "source": [
        "#finding similar words\n",
        "word2vec.wv.most_similar('mango')"
      ],
      "execution_count": 22,
      "outputs": [
        {
          "output_type": "execute_result",
          "data": {
            "text/plain": [
              "[('pineapple', 0.8814773559570312),\n",
              " ('peach', 0.8462610840797424),\n",
              " ('melon', 0.8063310384750366),\n",
              " ('kiwi', 0.7611942291259766),\n",
              " ('honeydew', 0.7581152319908142),\n",
              " ('pear', 0.7445927858352661),\n",
              " ('pomegranate', 0.7336922883987427),\n",
              " ('watermelon', 0.732054591178894),\n",
              " ('tangerine', 0.729391872882843),\n",
              " ('berry', 0.7151153683662415)]"
            ]
          },
          "metadata": {
            "tags": []
          },
          "execution_count": 22
        }
      ]
    },
    {
      "cell_type": "markdown",
      "metadata": {
        "id": "AppCMXGwuJnh"
      },
      "source": [
        "### Odd One Out"
      ]
    },
    {
      "cell_type": "code",
      "metadata": {
        "colab": {
          "base_uri": "https://localhost:8080/",
          "height": 35
        },
        "id": "-7_sDjaZuMLR",
        "outputId": "8ff09b63-dfff-48fb-8120-1efdcd7ca513"
      },
      "source": [
        "#finding the odd one out\n",
        "word2vec.doesnt_match((\"mango\", \"dog\", \"peach\"))"
      ],
      "execution_count": 23,
      "outputs": [
        {
          "output_type": "execute_result",
          "data": {
            "application/vnd.google.colaboratory.intrinsic+json": {
              "type": "string"
            },
            "text/plain": [
              "'dog'"
            ]
          },
          "metadata": {
            "tags": []
          },
          "execution_count": 23
        }
      ]
    },
    {
      "cell_type": "markdown",
      "metadata": {
        "id": "0XdbAf9AESwK"
      },
      "source": [
        "### Average of Word2Vec Vectors for Document Vector"
      ]
    },
    {
      "cell_type": "code",
      "metadata": {
        "id": "zYp9hl2qEStR"
      },
      "source": [
        "#avg word2vec function\n",
        "def avg_word2vec(x):\n",
        "    vectors = []\n",
        "    for item in x:\n",
        "        if item in vocabulary:                   #checking if word is in word2vec vocabulary\n",
        "           vectors.append(word2vec.wv[item])     #vector representation of the word\n",
        "\n",
        "    return np.mean(vectors, axis = 0)            #average of all available vectors"
      ],
      "execution_count": 24,
      "outputs": []
    },
    {
      "cell_type": "code",
      "metadata": {
        "colab": {
          "base_uri": "https://localhost:8080/",
          "height": 195
        },
        "id": "UPn7U6oBmLxE",
        "outputId": "442943fc-9abb-41c9-ed7e-daa1fc14f6ca"
      },
      "source": [
        "#calculating avg word2vec\n",
        "df['avg_word2vec'] = df['Text'].apply(lambda x: avg_word2vec(x))\n",
        "df.head()"
      ],
      "execution_count": 25,
      "outputs": [
        {
          "output_type": "execute_result",
          "data": {
            "text/html": [
              "<div>\n",
              "<style scoped>\n",
              "    .dataframe tbody tr th:only-of-type {\n",
              "        vertical-align: middle;\n",
              "    }\n",
              "\n",
              "    .dataframe tbody tr th {\n",
              "        vertical-align: top;\n",
              "    }\n",
              "\n",
              "    .dataframe thead th {\n",
              "        text-align: right;\n",
              "    }\n",
              "</style>\n",
              "<table border=\"1\" class=\"dataframe\">\n",
              "  <thead>\n",
              "    <tr style=\"text-align: right;\">\n",
              "      <th></th>\n",
              "      <th>Text</th>\n",
              "      <th>Score</th>\n",
              "      <th>avg_word2vec</th>\n",
              "    </tr>\n",
              "  </thead>\n",
              "  <tbody>\n",
              "    <tr>\n",
              "      <th>138706</th>\n",
              "      <td>[witty, little, book, makes, son, laugh, loud,...</td>\n",
              "      <td>1</td>\n",
              "      <td>[0.7342949, 0.30224502, -0.05032634, 0.4428327...</td>\n",
              "    </tr>\n",
              "    <tr>\n",
              "      <th>138688</th>\n",
              "      <td>[grew, reading, sendak, books, watching, reall...</td>\n",
              "      <td>1</td>\n",
              "      <td>[0.7397334, 0.7307607, 0.5771166, -0.9406805, ...</td>\n",
              "    </tr>\n",
              "    <tr>\n",
              "      <th>138689</th>\n",
              "      <td>[fun, way, children, learn, months, year, lear...</td>\n",
              "      <td>1</td>\n",
              "      <td>[0.86246383, 0.059025608, 1.039951, -0.3798154...</td>\n",
              "    </tr>\n",
              "    <tr>\n",
              "      <th>138690</th>\n",
              "      <td>[great, little, book, read, aloud, nice, rhyth...</td>\n",
              "      <td>1</td>\n",
              "      <td>[0.5747234, 0.5307194, 0.32028013, -1.3253409,...</td>\n",
              "    </tr>\n",
              "    <tr>\n",
              "      <th>138691</th>\n",
              "      <td>[book, poetry, months, year, goes, month, cute...</td>\n",
              "      <td>1</td>\n",
              "      <td>[0.56683445, 0.6151396, 0.89789563, 0.1481977,...</td>\n",
              "    </tr>\n",
              "  </tbody>\n",
              "</table>\n",
              "</div>"
            ],
            "text/plain": [
              "                                                     Text  ...                                       avg_word2vec\n",
              "138706  [witty, little, book, makes, son, laugh, loud,...  ...  [0.7342949, 0.30224502, -0.05032634, 0.4428327...\n",
              "138688  [grew, reading, sendak, books, watching, reall...  ...  [0.7397334, 0.7307607, 0.5771166, -0.9406805, ...\n",
              "138689  [fun, way, children, learn, months, year, lear...  ...  [0.86246383, 0.059025608, 1.039951, -0.3798154...\n",
              "138690  [great, little, book, read, aloud, nice, rhyth...  ...  [0.5747234, 0.5307194, 0.32028013, -1.3253409,...\n",
              "138691  [book, poetry, months, year, goes, month, cute...  ...  [0.56683445, 0.6151396, 0.89789563, 0.1481977,...\n",
              "\n",
              "[5 rows x 3 columns]"
            ]
          },
          "metadata": {
            "tags": []
          },
          "execution_count": 25
        }
      ]
    },
    {
      "cell_type": "markdown",
      "metadata": {
        "id": "9YyIm9dqrmlX"
      },
      "source": [
        "### Average of Word2Vec Vectors with TF-IDF for Document Vector"
      ]
    },
    {
      "cell_type": "code",
      "metadata": {
        "id": "8k42fu76xkAX"
      },
      "source": [
        "def tfidf_word2vec(x):\n",
        "    vectors = []\n",
        "    tfidf_sum = 0\n",
        "    for item in x:\n",
        "        if item in vocabulary:                                    #checking if word is in word2vec vocabulary\n",
        "           tfidf_value = tfidf_dict.get(item)                     #getting tf-idf value of word\n",
        "           vectors.append(word2vec.wv[item] * tfidf_value)        #word vector multiplied by tf-idf value\n",
        "           tfidf_sum += tfidf_value                               #sum of tf-idf of all words as denominator\n",
        "\n",
        "    return np.sum(vectors, axis = 0)/tfidf_sum                    #weighted average of all word vectors by tf-idf"
      ],
      "execution_count": 26,
      "outputs": []
    },
    {
      "cell_type": "code",
      "metadata": {
        "colab": {
          "base_uri": "https://localhost:8080/",
          "height": 195
        },
        "id": "73FDmqYt4_1D",
        "outputId": "75158a37-c7de-4461-bb95-426f66542f50"
      },
      "source": [
        "#calculating tf-idf weighthed word2vec\n",
        "df['tfidf_word2vec'] = df['Text'].apply(lambda x: tfidf_word2vec(x))\n",
        "df.head()"
      ],
      "execution_count": 27,
      "outputs": [
        {
          "output_type": "execute_result",
          "data": {
            "text/html": [
              "<div>\n",
              "<style scoped>\n",
              "    .dataframe tbody tr th:only-of-type {\n",
              "        vertical-align: middle;\n",
              "    }\n",
              "\n",
              "    .dataframe tbody tr th {\n",
              "        vertical-align: top;\n",
              "    }\n",
              "\n",
              "    .dataframe thead th {\n",
              "        text-align: right;\n",
              "    }\n",
              "</style>\n",
              "<table border=\"1\" class=\"dataframe\">\n",
              "  <thead>\n",
              "    <tr style=\"text-align: right;\">\n",
              "      <th></th>\n",
              "      <th>Text</th>\n",
              "      <th>Score</th>\n",
              "      <th>avg_word2vec</th>\n",
              "      <th>tfidf_word2vec</th>\n",
              "    </tr>\n",
              "  </thead>\n",
              "  <tbody>\n",
              "    <tr>\n",
              "      <th>138706</th>\n",
              "      <td>[witty, little, book, makes, son, laugh, loud,...</td>\n",
              "      <td>1</td>\n",
              "      <td>[0.7342949, 0.30224502, -0.05032634, 0.4428327...</td>\n",
              "      <td>[0.5169127, 0.3292227, -0.1576288, 0.6622015, ...</td>\n",
              "    </tr>\n",
              "    <tr>\n",
              "      <th>138688</th>\n",
              "      <td>[grew, reading, sendak, books, watching, reall...</td>\n",
              "      <td>1</td>\n",
              "      <td>[0.7397334, 0.7307607, 0.5771166, -0.9406805, ...</td>\n",
              "      <td>[0.62105983, 0.62610567, 0.40871078, -0.538037...</td>\n",
              "    </tr>\n",
              "    <tr>\n",
              "      <th>138689</th>\n",
              "      <td>[fun, way, children, learn, months, year, lear...</td>\n",
              "      <td>1</td>\n",
              "      <td>[0.86246383, 0.059025608, 1.039951, -0.3798154...</td>\n",
              "      <td>[0.5883172, 0.086780876, 0.85090166, -0.059307...</td>\n",
              "    </tr>\n",
              "    <tr>\n",
              "      <th>138690</th>\n",
              "      <td>[great, little, book, read, aloud, nice, rhyth...</td>\n",
              "      <td>1</td>\n",
              "      <td>[0.5747234, 0.5307194, 0.32028013, -1.3253409,...</td>\n",
              "      <td>[0.32820088, 0.32443893, 0.10845523, -0.725164...</td>\n",
              "    </tr>\n",
              "    <tr>\n",
              "      <th>138691</th>\n",
              "      <td>[book, poetry, months, year, goes, month, cute...</td>\n",
              "      <td>1</td>\n",
              "      <td>[0.56683445, 0.6151396, 0.89789563, 0.1481977,...</td>\n",
              "      <td>[0.3901421, 0.6132452, 0.65380883, 0.4601233, ...</td>\n",
              "    </tr>\n",
              "  </tbody>\n",
              "</table>\n",
              "</div>"
            ],
            "text/plain": [
              "                                                     Text  ...                                     tfidf_word2vec\n",
              "138706  [witty, little, book, makes, son, laugh, loud,...  ...  [0.5169127, 0.3292227, -0.1576288, 0.6622015, ...\n",
              "138688  [grew, reading, sendak, books, watching, reall...  ...  [0.62105983, 0.62610567, 0.40871078, -0.538037...\n",
              "138689  [fun, way, children, learn, months, year, lear...  ...  [0.5883172, 0.086780876, 0.85090166, -0.059307...\n",
              "138690  [great, little, book, read, aloud, nice, rhyth...  ...  [0.32820088, 0.32443893, 0.10845523, -0.725164...\n",
              "138691  [book, poetry, months, year, goes, month, cute...  ...  [0.3901421, 0.6132452, 0.65380883, 0.4601233, ...\n",
              "\n",
              "[5 rows x 4 columns]"
            ]
          },
          "metadata": {
            "tags": []
          },
          "execution_count": 27
        }
      ]
    }
  ]
}