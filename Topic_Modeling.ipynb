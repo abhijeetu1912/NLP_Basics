{
  "nbformat": 4,
  "nbformat_minor": 0,
  "metadata": {
    "colab": {
      "name": "Topic_Modeling.ipynb",
      "provenance": [],
      "collapsed_sections": []
    },
    "kernelspec": {
      "display_name": "Python 3",
      "language": "python",
      "name": "python3"
    },
    "language_info": {
      "codemirror_mode": {
        "name": "ipython",
        "version": 3
      },
      "file_extension": ".py",
      "mimetype": "text/x-python",
      "name": "python",
      "nbconvert_exporter": "python",
      "pygments_lexer": "ipython3",
      "version": "3.7.7"
    }
  },
  "cells": [
    {
      "cell_type": "markdown",
      "metadata": {
        "id": "WHC_UQTuCAY4"
      },
      "source": [
        "## Mounting Google Drive"
      ]
    },
    {
      "cell_type": "code",
      "metadata": {
        "colab": {
          "base_uri": "https://localhost:8080/"
        },
        "id": "IP5-couYXrPj",
        "outputId": "9e0b009c-83a7-43bb-ab7a-0d3d069bbca6"
      },
      "source": [
        "from google.colab import drive\n",
        "drive.mount('/content/drive')"
      ],
      "execution_count": 1,
      "outputs": [
        {
          "output_type": "stream",
          "text": [
            "Drive already mounted at /content/drive; to attempt to forcibly remount, call drive.mount(\"/content/drive\", force_remount=True).\n"
          ],
          "name": "stdout"
        }
      ]
    },
    {
      "cell_type": "markdown",
      "metadata": {
        "id": "9zEalYYOZnlS"
      },
      "source": [
        "## Loading Required Libraries"
      ]
    },
    {
      "cell_type": "code",
      "metadata": {
        "colab": {
          "base_uri": "https://localhost:8080/"
        },
        "id": "PvDdRsHgCAY5",
        "outputId": "4c4b1ae2-a0fd-4326-a9d2-459c6bded01d"
      },
      "source": [
        "%matplotlib inline\n",
        "import warnings\n",
        "warnings.filterwarnings(\"ignore\")\n",
        "\n",
        "import sqlite3\n",
        "import pandas as pd\n",
        "import numpy as np\n",
        "import nltk\n",
        "nltk.download('punkt')\n",
        "nltk.download('stopwords')\n",
        "import re\n",
        "import string\n",
        "import matplotlib.pyplot as plt\n",
        "import seaborn as sns\n",
        "\n",
        "from nltk.tokenize import word_tokenize \n",
        "from nltk.corpus import stopwords\n",
        "from nltk.stem import PorterStemmer\n",
        "\n",
        "from gensim.corpora import Dictionary\n",
        "from gensim.models import TfidfModel\n",
        "from gensim.models import LdaMulticore"
      ],
      "execution_count": 2,
      "outputs": [
        {
          "output_type": "stream",
          "text": [
            "[nltk_data] Downloading package punkt to /root/nltk_data...\n",
            "[nltk_data]   Package punkt is already up-to-date!\n",
            "[nltk_data] Downloading package stopwords to /root/nltk_data...\n",
            "[nltk_data]   Package stopwords is already up-to-date!\n"
          ],
          "name": "stdout"
        }
      ]
    },
    {
      "cell_type": "markdown",
      "metadata": {
        "id": "QOI7X2YgCAY_"
      },
      "source": [
        "## Reading Data"
      ]
    },
    {
      "cell_type": "code",
      "metadata": {
        "colab": {
          "base_uri": "https://localhost:8080/",
          "height": 296
        },
        "id": "1QU75zqHXiCO",
        "outputId": "64bdf835-ac83-4566-af1c-078bb8bed5b8"
      },
      "source": [
        "# using the SQLite Table to read data.\n",
        "con = sqlite3.connect(F'/content/drive/MyDrive/Aazon_Review_Data/database.sqlite') \n",
        "\n",
        "#filtering only positive and negative reviews i.e. ignoring neutral reviews with Score = 3\n",
        "df = pd.read_sql_query(\"\"\" SELECT * FROM Reviews WHERE Score != 3\"\"\", con)\n",
        "print(df.shape)\n",
        "df.head()"
      ],
      "execution_count": 3,
      "outputs": [
        {
          "output_type": "stream",
          "text": [
            "(525814, 10)\n"
          ],
          "name": "stdout"
        },
        {
          "output_type": "execute_result",
          "data": {
            "text/html": [
              "<div>\n",
              "<style scoped>\n",
              "    .dataframe tbody tr th:only-of-type {\n",
              "        vertical-align: middle;\n",
              "    }\n",
              "\n",
              "    .dataframe tbody tr th {\n",
              "        vertical-align: top;\n",
              "    }\n",
              "\n",
              "    .dataframe thead th {\n",
              "        text-align: right;\n",
              "    }\n",
              "</style>\n",
              "<table border=\"1\" class=\"dataframe\">\n",
              "  <thead>\n",
              "    <tr style=\"text-align: right;\">\n",
              "      <th></th>\n",
              "      <th>Id</th>\n",
              "      <th>ProductId</th>\n",
              "      <th>UserId</th>\n",
              "      <th>ProfileName</th>\n",
              "      <th>HelpfulnessNumerator</th>\n",
              "      <th>HelpfulnessDenominator</th>\n",
              "      <th>Score</th>\n",
              "      <th>Time</th>\n",
              "      <th>Summary</th>\n",
              "      <th>Text</th>\n",
              "    </tr>\n",
              "  </thead>\n",
              "  <tbody>\n",
              "    <tr>\n",
              "      <th>0</th>\n",
              "      <td>1</td>\n",
              "      <td>B001E4KFG0</td>\n",
              "      <td>A3SGXH7AUHU8GW</td>\n",
              "      <td>delmartian</td>\n",
              "      <td>1</td>\n",
              "      <td>1</td>\n",
              "      <td>5</td>\n",
              "      <td>1303862400</td>\n",
              "      <td>Good Quality Dog Food</td>\n",
              "      <td>I have bought several of the Vitality canned d...</td>\n",
              "    </tr>\n",
              "    <tr>\n",
              "      <th>1</th>\n",
              "      <td>2</td>\n",
              "      <td>B00813GRG4</td>\n",
              "      <td>A1D87F6ZCVE5NK</td>\n",
              "      <td>dll pa</td>\n",
              "      <td>0</td>\n",
              "      <td>0</td>\n",
              "      <td>1</td>\n",
              "      <td>1346976000</td>\n",
              "      <td>Not as Advertised</td>\n",
              "      <td>Product arrived labeled as Jumbo Salted Peanut...</td>\n",
              "    </tr>\n",
              "    <tr>\n",
              "      <th>2</th>\n",
              "      <td>3</td>\n",
              "      <td>B000LQOCH0</td>\n",
              "      <td>ABXLMWJIXXAIN</td>\n",
              "      <td>Natalia Corres \"Natalia Corres\"</td>\n",
              "      <td>1</td>\n",
              "      <td>1</td>\n",
              "      <td>4</td>\n",
              "      <td>1219017600</td>\n",
              "      <td>\"Delight\" says it all</td>\n",
              "      <td>This is a confection that has been around a fe...</td>\n",
              "    </tr>\n",
              "    <tr>\n",
              "      <th>3</th>\n",
              "      <td>4</td>\n",
              "      <td>B000UA0QIQ</td>\n",
              "      <td>A395BORC6FGVXV</td>\n",
              "      <td>Karl</td>\n",
              "      <td>3</td>\n",
              "      <td>3</td>\n",
              "      <td>2</td>\n",
              "      <td>1307923200</td>\n",
              "      <td>Cough Medicine</td>\n",
              "      <td>If you are looking for the secret ingredient i...</td>\n",
              "    </tr>\n",
              "    <tr>\n",
              "      <th>4</th>\n",
              "      <td>5</td>\n",
              "      <td>B006K2ZZ7K</td>\n",
              "      <td>A1UQRSCLF8GW1T</td>\n",
              "      <td>Michael D. Bigham \"M. Wassir\"</td>\n",
              "      <td>0</td>\n",
              "      <td>0</td>\n",
              "      <td>5</td>\n",
              "      <td>1350777600</td>\n",
              "      <td>Great taffy</td>\n",
              "      <td>Great taffy at a great price.  There was a wid...</td>\n",
              "    </tr>\n",
              "  </tbody>\n",
              "</table>\n",
              "</div>"
            ],
            "text/plain": [
              "   Id  ...                                               Text\n",
              "0   1  ...  I have bought several of the Vitality canned d...\n",
              "1   2  ...  Product arrived labeled as Jumbo Salted Peanut...\n",
              "2   3  ...  This is a confection that has been around a fe...\n",
              "3   4  ...  If you are looking for the secret ingredient i...\n",
              "4   5  ...  Great taffy at a great price.  There was a wid...\n",
              "\n",
              "[5 rows x 10 columns]"
            ]
          },
          "metadata": {
            "tags": []
          },
          "execution_count": 3
        }
      ]
    },
    {
      "cell_type": "code",
      "metadata": {
        "colab": {
          "base_uri": "https://localhost:8080/"
        },
        "id": "EQQpOa6bXiCP",
        "outputId": "4d09ff15-63af-49a3-a992-abb64842b32e"
      },
      "source": [
        "#proprtion of review scores\n",
        "df.Score.value_counts()"
      ],
      "execution_count": 4,
      "outputs": [
        {
          "output_type": "execute_result",
          "data": {
            "text/plain": [
              "5    363122\n",
              "4     80655\n",
              "1     52268\n",
              "2     29769\n",
              "Name: Score, dtype: int64"
            ]
          },
          "metadata": {
            "tags": []
          },
          "execution_count": 4
        }
      ]
    },
    {
      "cell_type": "code",
      "metadata": {
        "colab": {
          "base_uri": "https://localhost:8080/",
          "height": 186
        },
        "id": "3iYH2p1ECAZA",
        "outputId": "589136bf-4954-4dba-9ea2-baffc47a52eb"
      },
      "source": [
        "# Give reviews with Score>3 a positive rating, and reviews with a score<3 a negative rating.\n",
        "df['Score'] = np.where(df['Score'] > 3, 1, 0)\n",
        "df.head(3)"
      ],
      "execution_count": 5,
      "outputs": [
        {
          "output_type": "execute_result",
          "data": {
            "text/html": [
              "<div>\n",
              "<style scoped>\n",
              "    .dataframe tbody tr th:only-of-type {\n",
              "        vertical-align: middle;\n",
              "    }\n",
              "\n",
              "    .dataframe tbody tr th {\n",
              "        vertical-align: top;\n",
              "    }\n",
              "\n",
              "    .dataframe thead th {\n",
              "        text-align: right;\n",
              "    }\n",
              "</style>\n",
              "<table border=\"1\" class=\"dataframe\">\n",
              "  <thead>\n",
              "    <tr style=\"text-align: right;\">\n",
              "      <th></th>\n",
              "      <th>Id</th>\n",
              "      <th>ProductId</th>\n",
              "      <th>UserId</th>\n",
              "      <th>ProfileName</th>\n",
              "      <th>HelpfulnessNumerator</th>\n",
              "      <th>HelpfulnessDenominator</th>\n",
              "      <th>Score</th>\n",
              "      <th>Time</th>\n",
              "      <th>Summary</th>\n",
              "      <th>Text</th>\n",
              "    </tr>\n",
              "  </thead>\n",
              "  <tbody>\n",
              "    <tr>\n",
              "      <th>0</th>\n",
              "      <td>1</td>\n",
              "      <td>B001E4KFG0</td>\n",
              "      <td>A3SGXH7AUHU8GW</td>\n",
              "      <td>delmartian</td>\n",
              "      <td>1</td>\n",
              "      <td>1</td>\n",
              "      <td>1</td>\n",
              "      <td>1303862400</td>\n",
              "      <td>Good Quality Dog Food</td>\n",
              "      <td>I have bought several of the Vitality canned d...</td>\n",
              "    </tr>\n",
              "    <tr>\n",
              "      <th>1</th>\n",
              "      <td>2</td>\n",
              "      <td>B00813GRG4</td>\n",
              "      <td>A1D87F6ZCVE5NK</td>\n",
              "      <td>dll pa</td>\n",
              "      <td>0</td>\n",
              "      <td>0</td>\n",
              "      <td>0</td>\n",
              "      <td>1346976000</td>\n",
              "      <td>Not as Advertised</td>\n",
              "      <td>Product arrived labeled as Jumbo Salted Peanut...</td>\n",
              "    </tr>\n",
              "    <tr>\n",
              "      <th>2</th>\n",
              "      <td>3</td>\n",
              "      <td>B000LQOCH0</td>\n",
              "      <td>ABXLMWJIXXAIN</td>\n",
              "      <td>Natalia Corres \"Natalia Corres\"</td>\n",
              "      <td>1</td>\n",
              "      <td>1</td>\n",
              "      <td>1</td>\n",
              "      <td>1219017600</td>\n",
              "      <td>\"Delight\" says it all</td>\n",
              "      <td>This is a confection that has been around a fe...</td>\n",
              "    </tr>\n",
              "  </tbody>\n",
              "</table>\n",
              "</div>"
            ],
            "text/plain": [
              "   Id  ...                                               Text\n",
              "0   1  ...  I have bought several of the Vitality canned d...\n",
              "1   2  ...  Product arrived labeled as Jumbo Salted Peanut...\n",
              "2   3  ...  This is a confection that has been around a fe...\n",
              "\n",
              "[3 rows x 10 columns]"
            ]
          },
          "metadata": {
            "tags": []
          },
          "execution_count": 5
        }
      ]
    },
    {
      "cell_type": "markdown",
      "metadata": {
        "id": "TX5b3dc5CAZS"
      },
      "source": [
        "## Data Cleaning"
      ]
    },
    {
      "cell_type": "code",
      "metadata": {
        "id": "DGy2NM7BCAZX"
      },
      "source": [
        "#Sorting data according to ProductId in ascending order\n",
        "df.sort_values('ProductId', axis = 0, ascending = True, inplace = True, kind = 'quicksort', na_position = 'last')"
      ],
      "execution_count": 6,
      "outputs": []
    },
    {
      "cell_type": "code",
      "metadata": {
        "colab": {
          "base_uri": "https://localhost:8080/"
        },
        "id": "8b-O13XVCAZZ",
        "outputId": "bde99331-135e-41d1-e522-1ef92ff45736"
      },
      "source": [
        "#Deduplication of entries\n",
        "df.drop_duplicates(subset={\"UserId\",\"ProfileName\",\"Time\",\"Text\"}, keep ='first', inplace = True)\n",
        "df.shape"
      ],
      "execution_count": 7,
      "outputs": [
        {
          "output_type": "execute_result",
          "data": {
            "text/plain": [
              "(364173, 10)"
            ]
          },
          "metadata": {
            "tags": []
          },
          "execution_count": 7
        }
      ]
    },
    {
      "cell_type": "markdown",
      "metadata": {
        "id": "LO5nLKeFCAZf"
      },
      "source": [
        "<b>Insight:-</b> In some rows, value of HelpfulnessNumerator can be greater than HelpfulnessDenominator which is not practically possible hence these two rows too are removed from calcualtions.\n",
        "It is not possible that more number of people found these reviews useful compared to number of people who have seen this review."
      ]
    },
    {
      "cell_type": "code",
      "metadata": {
        "colab": {
          "base_uri": "https://localhost:8080/"
        },
        "id": "8Tphk1piCAZk",
        "outputId": "04f351c8-79c9-4dec-ddfe-680c67f6819d"
      },
      "source": [
        "#removing records with HelpfulnessNumerator > HelpfulnessDenominator\n",
        "df = df[df.HelpfulnessNumerator <= df.HelpfulnessDenominator]\n",
        "df.shape"
      ],
      "execution_count": 8,
      "outputs": [
        {
          "output_type": "execute_result",
          "data": {
            "text/plain": [
              "(364171, 10)"
            ]
          },
          "metadata": {
            "tags": []
          },
          "execution_count": 8
        }
      ]
    },
    {
      "cell_type": "code",
      "metadata": {
        "colab": {
          "base_uri": "https://localhost:8080/",
          "height": 195
        },
        "id": "Zr06bEIOXiCS",
        "outputId": "b6b49de5-4603-4b56-a1ef-23b671a85e27"
      },
      "source": [
        "#selecting required columns\n",
        "df = df[['Text', 'Score']]\n",
        "df.head()"
      ],
      "execution_count": 9,
      "outputs": [
        {
          "output_type": "execute_result",
          "data": {
            "text/html": [
              "<div>\n",
              "<style scoped>\n",
              "    .dataframe tbody tr th:only-of-type {\n",
              "        vertical-align: middle;\n",
              "    }\n",
              "\n",
              "    .dataframe tbody tr th {\n",
              "        vertical-align: top;\n",
              "    }\n",
              "\n",
              "    .dataframe thead th {\n",
              "        text-align: right;\n",
              "    }\n",
              "</style>\n",
              "<table border=\"1\" class=\"dataframe\">\n",
              "  <thead>\n",
              "    <tr style=\"text-align: right;\">\n",
              "      <th></th>\n",
              "      <th>Text</th>\n",
              "      <th>Score</th>\n",
              "    </tr>\n",
              "  </thead>\n",
              "  <tbody>\n",
              "    <tr>\n",
              "      <th>138706</th>\n",
              "      <td>this witty little book makes my son laugh at l...</td>\n",
              "      <td>1</td>\n",
              "    </tr>\n",
              "    <tr>\n",
              "      <th>138688</th>\n",
              "      <td>I grew up reading these Sendak books, and watc...</td>\n",
              "      <td>1</td>\n",
              "    </tr>\n",
              "    <tr>\n",
              "      <th>138689</th>\n",
              "      <td>This is a fun way for children to learn their ...</td>\n",
              "      <td>1</td>\n",
              "    </tr>\n",
              "    <tr>\n",
              "      <th>138690</th>\n",
              "      <td>This is a great little book to read aloud- it ...</td>\n",
              "      <td>1</td>\n",
              "    </tr>\n",
              "    <tr>\n",
              "      <th>138691</th>\n",
              "      <td>This is a book of poetry about the months of t...</td>\n",
              "      <td>1</td>\n",
              "    </tr>\n",
              "  </tbody>\n",
              "</table>\n",
              "</div>"
            ],
            "text/plain": [
              "                                                     Text  Score\n",
              "138706  this witty little book makes my son laugh at l...      1\n",
              "138688  I grew up reading these Sendak books, and watc...      1\n",
              "138689  This is a fun way for children to learn their ...      1\n",
              "138690  This is a great little book to read aloud- it ...      1\n",
              "138691  This is a book of poetry about the months of t...      1"
            ]
          },
          "metadata": {
            "tags": []
          },
          "execution_count": 9
        }
      ]
    },
    {
      "cell_type": "code",
      "metadata": {
        "colab": {
          "base_uri": "https://localhost:8080/"
        },
        "id": "8TpsGDdJCAZm",
        "outputId": "96bab7a1-9c67-4d74-ce33-a0c6d45e791b"
      },
      "source": [
        "#Distribution of +ve and -ve Reviews\n",
        "df['Score'].value_counts()"
      ],
      "execution_count": 10,
      "outputs": [
        {
          "output_type": "execute_result",
          "data": {
            "text/plain": [
              "1    307061\n",
              "0     57110\n",
              "Name: Score, dtype: int64"
            ]
          },
          "metadata": {
            "tags": []
          },
          "execution_count": 10
        }
      ]
    },
    {
      "cell_type": "markdown",
      "metadata": {
        "id": "RxBsuBylCAZr"
      },
      "source": [
        "## Text Preprocessing"
      ]
    },
    {
      "cell_type": "markdown",
      "metadata": {
        "id": "6ZNmsDcCat__"
      },
      "source": [
        "### Converting to Lower Case"
      ]
    },
    {
      "cell_type": "code",
      "metadata": {
        "colab": {
          "base_uri": "https://localhost:8080/"
        },
        "id": "FSQxXwHOXiCT",
        "outputId": "f7199078-1dda-48eb-aadb-c9a7fc3b5391"
      },
      "source": [
        "#converting text reviews to lower case\n",
        "df['Text'] = df['Text'].str.lower()\n",
        "df['Text'].head()"
      ],
      "execution_count": 11,
      "outputs": [
        {
          "output_type": "execute_result",
          "data": {
            "text/plain": [
              "138706    this witty little book makes my son laugh at l...\n",
              "138688    i grew up reading these sendak books, and watc...\n",
              "138689    this is a fun way for children to learn their ...\n",
              "138690    this is a great little book to read aloud- it ...\n",
              "138691    this is a book of poetry about the months of t...\n",
              "Name: Text, dtype: object"
            ]
          },
          "metadata": {
            "tags": []
          },
          "execution_count": 11
        }
      ]
    },
    {
      "cell_type": "markdown",
      "metadata": {
        "id": "L4FVonIla0e_"
      },
      "source": [
        "### Remove URLS"
      ]
    },
    {
      "cell_type": "code",
      "metadata": {
        "colab": {
          "base_uri": "https://localhost:8080/"
        },
        "id": "B2CAydxUXiCU",
        "outputId": "37cdea73-85d5-4897-81c0-c4a0a56a52d9"
      },
      "source": [
        "#remove urls from text reviews\n",
        "df['Text'] = df['Text'].apply(lambda x : re.sub('http[s]?://\\S+', ' ', x))\n",
        "df['Text'].head()"
      ],
      "execution_count": 12,
      "outputs": [
        {
          "output_type": "execute_result",
          "data": {
            "text/plain": [
              "138706    this witty little book makes my son laugh at l...\n",
              "138688    i grew up reading these sendak books, and watc...\n",
              "138689    this is a fun way for children to learn their ...\n",
              "138690    this is a great little book to read aloud- it ...\n",
              "138691    this is a book of poetry about the months of t...\n",
              "Name: Text, dtype: object"
            ]
          },
          "metadata": {
            "tags": []
          },
          "execution_count": 12
        }
      ]
    },
    {
      "cell_type": "markdown",
      "metadata": {
        "id": "LHXGiUq0a3_Q"
      },
      "source": [
        "### Remove HTML Tags"
      ]
    },
    {
      "cell_type": "code",
      "metadata": {
        "colab": {
          "base_uri": "https://localhost:8080/",
          "height": 35
        },
        "id": "Liu2zNFLCAZ0",
        "outputId": "a67839ab-9481-44cd-8192-3a3019f06fa9"
      },
      "source": [
        "#removing html tags\n",
        "df['Text'] = df['Text'].apply(lambda x: re.sub('<[^<]+?>', ' ', x))\n",
        "df['Text'][5857]"
      ],
      "execution_count": 13,
      "outputs": [
        {
          "output_type": "execute_result",
          "data": {
            "application/vnd.google.colaboratory.intrinsic+json": {
              "type": "string"
            },
            "text/plain": [
              "'you will love this jerky if you are a beer drinker. recommend this product for sure for them nights around the campfires!'"
            ]
          },
          "metadata": {
            "tags": []
          },
          "execution_count": 13
        }
      ]
    },
    {
      "cell_type": "markdown",
      "metadata": {
        "id": "AWJIkO99a-ua"
      },
      "source": [
        "### Remove Alphanumeric Words"
      ]
    },
    {
      "cell_type": "code",
      "metadata": {
        "colab": {
          "base_uri": "https://localhost:8080/",
          "height": 35
        },
        "id": "jKIBLrAjCAZ7",
        "outputId": "ec98012c-f199-4268-a363-2576f6c28f90"
      },
      "source": [
        "#remove words with numbers python\n",
        "df['Text'] = df['Text'].apply(lambda x: re.sub('\\S*\\d\\S*', ' ', x))\n",
        "df['Text'][5857]"
      ],
      "execution_count": 14,
      "outputs": [
        {
          "output_type": "execute_result",
          "data": {
            "application/vnd.google.colaboratory.intrinsic+json": {
              "type": "string"
            },
            "text/plain": [
              "'you will love this jerky if you are a beer drinker. recommend this product for sure for them nights around the campfires!'"
            ]
          },
          "metadata": {
            "tags": []
          },
          "execution_count": 14
        }
      ]
    },
    {
      "cell_type": "markdown",
      "metadata": {
        "id": "s59yhzcJbCbz"
      },
      "source": [
        "### Remove Special Characters"
      ]
    },
    {
      "cell_type": "code",
      "metadata": {
        "colab": {
          "base_uri": "https://localhost:8080/",
          "height": 35
        },
        "id": "sU3eY6geCAZ9",
        "outputId": "07d51fe8-a9ea-47a4-fb52-57571ec04b49"
      },
      "source": [
        "#remove special character\n",
        "df['Text'] = df['Text'].apply(lambda x: re.sub('[^A-Za-z]+', ' ', x))\n",
        "df['Text'][5857]"
      ],
      "execution_count": 15,
      "outputs": [
        {
          "output_type": "execute_result",
          "data": {
            "application/vnd.google.colaboratory.intrinsic+json": {
              "type": "string"
            },
            "text/plain": [
              "'you will love this jerky if you are a beer drinker recommend this product for sure for them nights around the campfires '"
            ]
          },
          "metadata": {
            "tags": []
          },
          "execution_count": 15
        }
      ]
    },
    {
      "cell_type": "markdown",
      "metadata": {
        "id": "iLGFctcobIJy"
      },
      "source": [
        "### Remove Single Length Words"
      ]
    },
    {
      "cell_type": "code",
      "metadata": {
        "colab": {
          "base_uri": "https://localhost:8080/",
          "height": 35
        },
        "id": "RNIy_tnMXiCV",
        "outputId": "b37b3343-0060-4893-a8aa-25ef9598fb04"
      },
      "source": [
        "#removing single character words\n",
        "df['Text'] = df['Text'].apply(lambda x: re.sub(r'\\b[a-zA-Z]\\b', ' ', x))\n",
        "df['Text'][5857]"
      ],
      "execution_count": 16,
      "outputs": [
        {
          "output_type": "execute_result",
          "data": {
            "application/vnd.google.colaboratory.intrinsic+json": {
              "type": "string"
            },
            "text/plain": [
              "'you will love this jerky if you are   beer drinker recommend this product for sure for them nights around the campfires '"
            ]
          },
          "metadata": {
            "tags": []
          },
          "execution_count": 16
        }
      ]
    },
    {
      "cell_type": "markdown",
      "metadata": {
        "id": "w5NH2sWBbNlg"
      },
      "source": [
        "### Remove Multiple White Spaces"
      ]
    },
    {
      "cell_type": "code",
      "metadata": {
        "colab": {
          "base_uri": "https://localhost:8080/",
          "height": 35
        },
        "id": "91UAI_8dXiCV",
        "outputId": "0b9282ba-da64-43d5-dcbe-fee92f4c06a8"
      },
      "source": [
        "#replace multi white spaces\n",
        "df['Text'] = df['Text'].apply(lambda x: re.sub('\\s{2,}', ' ', x))\n",
        "df['Text'][5857]"
      ],
      "execution_count": 17,
      "outputs": [
        {
          "output_type": "execute_result",
          "data": {
            "application/vnd.google.colaboratory.intrinsic+json": {
              "type": "string"
            },
            "text/plain": [
              "'you will love this jerky if you are beer drinker recommend this product for sure for them nights around the campfires '"
            ]
          },
          "metadata": {
            "tags": []
          },
          "execution_count": 17
        }
      ]
    },
    {
      "cell_type": "markdown",
      "metadata": {
        "id": "cKdmoSLkbQ5X"
      },
      "source": [
        "#### Remove Spaces from Start & End of Text"
      ]
    },
    {
      "cell_type": "code",
      "metadata": {
        "colab": {
          "base_uri": "https://localhost:8080/"
        },
        "id": "XpQAX1vEXiCV",
        "outputId": "1dd73163-0b7b-4a74-b90a-a534b02a34db"
      },
      "source": [
        "#removing spaces from start and end of text reviews\n",
        "df['Text'] = df['Text'].str.strip()  #lstrip for start and rstrip for end\n",
        "df['Text'].head()"
      ],
      "execution_count": 18,
      "outputs": [
        {
          "output_type": "execute_result",
          "data": {
            "text/plain": [
              "138706    this witty little book makes my son laugh at l...\n",
              "138688    grew up reading these sendak books and watchin...\n",
              "138689    this is fun way for children to learn their mo...\n",
              "138690    this is great little book to read aloud it has...\n",
              "138691    this is book of poetry about the months of the...\n",
              "Name: Text, dtype: object"
            ]
          },
          "metadata": {
            "tags": []
          },
          "execution_count": 18
        }
      ]
    },
    {
      "cell_type": "markdown",
      "metadata": {
        "id": "DQiD_UIobZLy"
      },
      "source": [
        "### Word Tokenization"
      ]
    },
    {
      "cell_type": "code",
      "metadata": {
        "colab": {
          "base_uri": "https://localhost:8080/"
        },
        "id": "JcXk2CXmXiCW",
        "outputId": "81357d34-6b4a-4b8f-a5c7-953848a6e232"
      },
      "source": [
        "#word tokenization\n",
        "df['Text'] = df['Text'].apply(lambda x: word_tokenize(x)) \n",
        "df['Text'].head()"
      ],
      "execution_count": 19,
      "outputs": [
        {
          "output_type": "execute_result",
          "data": {
            "text/plain": [
              "138706    [this, witty, little, book, makes, my, son, la...\n",
              "138688    [grew, up, reading, these, sendak, books, and,...\n",
              "138689    [this, is, fun, way, for, children, to, learn,...\n",
              "138690    [this, is, great, little, book, to, read, alou...\n",
              "138691    [this, is, book, of, poetry, about, the, month...\n",
              "Name: Text, dtype: object"
            ]
          },
          "metadata": {
            "tags": []
          },
          "execution_count": 19
        }
      ]
    },
    {
      "cell_type": "markdown",
      "metadata": {
        "id": "UAVb4qcpbboK"
      },
      "source": [
        "### Stop Word Removal"
      ]
    },
    {
      "cell_type": "code",
      "metadata": {
        "colab": {
          "base_uri": "https://localhost:8080/"
        },
        "id": "JXyTYyFIXiCW",
        "outputId": "af5c5532-0bb1-4730-928d-d0e21eaf5af3"
      },
      "source": [
        "#stopwords \n",
        "stop_words = stopwords.words('english')  #to remove stopwords\n",
        "negative = [\"no\", \"nor\", \"not\", 'ain', 'aren', \"aren't\", 'couldn', \"couldn't\", 'didn', \"didn't\", 'doesn',\n",
        "          \"doesn't\", 'hadn', \"hadn't\", 'hasn', \"hasn't\", 'haven', \"haven't\", 'isn', \"isn't\", 'mightn',\n",
        "          \"mightn't\", 'mustn', \"mustn't\", 'needn', \"needn't\", 'shan', \"shan't\", 'shouldn', \"shouldn't\",\n",
        "          'wasn', \"wasn't\", 'weren', \"weren't\", 'won', \"won't\", 'wouldn', \"wouldn't\", 'don', \"don't\"]\n",
        "stop_words = [x for x in stop_words if x not in negative]\n",
        "print(stop_words)"
      ],
      "execution_count": 20,
      "outputs": [
        {
          "output_type": "stream",
          "text": [
            "['i', 'me', 'my', 'myself', 'we', 'our', 'ours', 'ourselves', 'you', \"you're\", \"you've\", \"you'll\", \"you'd\", 'your', 'yours', 'yourself', 'yourselves', 'he', 'him', 'his', 'himself', 'she', \"she's\", 'her', 'hers', 'herself', 'it', \"it's\", 'its', 'itself', 'they', 'them', 'their', 'theirs', 'themselves', 'what', 'which', 'who', 'whom', 'this', 'that', \"that'll\", 'these', 'those', 'am', 'is', 'are', 'was', 'were', 'be', 'been', 'being', 'have', 'has', 'had', 'having', 'do', 'does', 'did', 'doing', 'a', 'an', 'the', 'and', 'but', 'if', 'or', 'because', 'as', 'until', 'while', 'of', 'at', 'by', 'for', 'with', 'about', 'against', 'between', 'into', 'through', 'during', 'before', 'after', 'above', 'below', 'to', 'from', 'up', 'down', 'in', 'out', 'on', 'off', 'over', 'under', 'again', 'further', 'then', 'once', 'here', 'there', 'when', 'where', 'why', 'how', 'all', 'any', 'both', 'each', 'few', 'more', 'most', 'other', 'some', 'such', 'only', 'own', 'same', 'so', 'than', 'too', 'very', 's', 't', 'can', 'will', 'just', 'should', \"should've\", 'now', 'd', 'll', 'm', 'o', 're', 've', 'y', 'ma']\n"
          ],
          "name": "stdout"
        }
      ]
    },
    {
      "cell_type": "code",
      "metadata": {
        "colab": {
          "base_uri": "https://localhost:8080/"
        },
        "id": "iu026pAKXiCX",
        "outputId": "3da17321-706a-4c35-db1a-cf4655614f35"
      },
      "source": [
        "#stopword removal\n",
        "df['Text'] = df['Text'].apply(lambda x: [item for item in x if item not in stop_words])\n",
        "df['Text'].head()"
      ],
      "execution_count": 21,
      "outputs": [
        {
          "output_type": "execute_result",
          "data": {
            "text/plain": [
              "138706    [witty, little, book, makes, son, laugh, loud,...\n",
              "138688    [grew, reading, sendak, books, watching, reall...\n",
              "138689    [fun, way, children, learn, months, year, lear...\n",
              "138690    [great, little, book, read, aloud, nice, rhyth...\n",
              "138691    [book, poetry, months, year, goes, month, cute...\n",
              "Name: Text, dtype: object"
            ]
          },
          "metadata": {
            "tags": []
          },
          "execution_count": 21
        }
      ]
    },
    {
      "cell_type": "markdown",
      "metadata": {
        "id": "GcUW68aHbwC4"
      },
      "source": [
        "### Replacing Negative Words by \"Not\""
      ]
    },
    {
      "cell_type": "code",
      "metadata": {
        "colab": {
          "base_uri": "https://localhost:8080/"
        },
        "id": "qTDig7VLXiCX",
        "outputId": "95e4420c-a04b-43f9-bda0-de8c7ee6b9c9"
      },
      "source": [
        "#replace negative words by not to reduce the dimension of data\n",
        "def replace_by_not(x, y):\n",
        "    for i, n in enumerate(x):\n",
        "        if n in y:\n",
        "            x[i] = 'not'\n",
        "    return x\n",
        "\n",
        "df['Text'] = df['Text'].apply(lambda x: replace_by_not(x, negative))\n",
        "df['Text'].head()"
      ],
      "execution_count": 22,
      "outputs": [
        {
          "output_type": "execute_result",
          "data": {
            "text/plain": [
              "138706    [witty, little, book, makes, son, laugh, loud,...\n",
              "138688    [grew, reading, sendak, books, watching, reall...\n",
              "138689    [fun, way, children, learn, months, year, lear...\n",
              "138690    [great, little, book, read, aloud, nice, rhyth...\n",
              "138691    [book, poetry, months, year, goes, month, cute...\n",
              "Name: Text, dtype: object"
            ]
          },
          "metadata": {
            "tags": []
          },
          "execution_count": 22
        }
      ]
    },
    {
      "cell_type": "markdown",
      "metadata": {
        "id": "E89mBgENb4lW"
      },
      "source": [
        "### Stemming"
      ]
    },
    {
      "cell_type": "code",
      "metadata": {
        "colab": {
          "base_uri": "https://localhost:8080/"
        },
        "id": "f_zfwXXWCAaE",
        "outputId": "16eee5ac-4fad-4134-ee23-44ea0a804e2f"
      },
      "source": [
        "#stemming\n",
        "stemmer = PorterStemmer()  #for stemming\n",
        "\n",
        "df['Text'] = df['Text'].apply(lambda x: [stemmer.stem(item) for item in x])\n",
        "df['Text'].head()"
      ],
      "execution_count": 23,
      "outputs": [
        {
          "output_type": "execute_result",
          "data": {
            "text/plain": [
              "138706    [witti, littl, book, make, son, laugh, loud, r...\n",
              "138688    [grew, read, sendak, book, watch, realli, rosi...\n",
              "138689    [fun, way, children, learn, month, year, learn...\n",
              "138690    [great, littl, book, read, aloud, nice, rhythm...\n",
              "138691    [book, poetri, month, year, goe, month, cute, ...\n",
              "Name: Text, dtype: object"
            ]
          },
          "metadata": {
            "tags": []
          },
          "execution_count": 23
        }
      ]
    },
    {
      "cell_type": "code",
      "metadata": {
        "id": "r1k7ltd7XiCY"
      },
      "source": [
        "#Extracting X & y for Training\n",
        "X = df['Text']\n",
        "y = df['Score']"
      ],
      "execution_count": 24,
      "outputs": []
    },
    {
      "cell_type": "markdown",
      "metadata": {
        "id": "ytBZVEs2CAaL"
      },
      "source": [
        "## Featurization - Bag of Words, TF-IDF"
      ]
    },
    {
      "cell_type": "markdown",
      "metadata": {
        "id": "1yyEQCVr4Cnc"
      },
      "source": [
        "### Bag of Word: Uni-gram (Count)"
      ]
    },
    {
      "cell_type": "code",
      "metadata": {
        "id": "GrrOoq-lSEKm"
      },
      "source": [
        "#creating bag of words vector\n",
        "bow = Dictionary(X)\n",
        "bow.filter_extremes(no_below = 20, no_above = 0.9, keep_n = 5000)\n",
        "bow_corpus = [bow.doc2bow(doc) for doc in X]"
      ],
      "execution_count": 25,
      "outputs": []
    },
    {
      "cell_type": "markdown",
      "metadata": {
        "id": "EB76MsGC4FcJ"
      },
      "source": [
        "### TF-IDF"
      ]
    },
    {
      "cell_type": "code",
      "metadata": {
        "id": "UIPz1HV-S1xs"
      },
      "source": [
        "#creating tf-idf vector\n",
        "tfidf = TfidfModel(bow_corpus)\n",
        "tfidf_corpus = tfidf[bow_corpus]"
      ],
      "execution_count": 26,
      "outputs": []
    },
    {
      "cell_type": "markdown",
      "metadata": {
        "id": "Es16DCWKT_S_"
      },
      "source": [
        "## LDA on Bag of Words"
      ]
    },
    {
      "cell_type": "code",
      "metadata": {
        "id": "412H9PT3T6Qu"
      },
      "source": [
        "#building lda model on tf-idf vector\n",
        "lda_bow = LdaMulticore(bow_corpus, num_topics = 10, id2word = bow, passes = 5, workers = 3, random_state = 1)"
      ],
      "execution_count": 30,
      "outputs": []
    },
    {
      "cell_type": "code",
      "metadata": {
        "colab": {
          "base_uri": "https://localhost:8080/"
        },
        "id": "IBhYq2YOURKU",
        "outputId": "c789515d-89bf-4f28-fc5b-32a8e5ab0b5f"
      },
      "source": [
        "#topics from model\n",
        "for idx, topic in lda_bow.print_topics(-1):\n",
        "    print('Topic: {} \\nWords: {}'.format(idx, topic))"
      ],
      "execution_count": 31,
      "outputs": [
        {
          "output_type": "stream",
          "text": [
            "Topic: 0 \n",
            "Words: 0.045*\"not\" + 0.021*\"packag\" + 0.020*\"order\" + 0.020*\"product\" + 0.018*\"bag\" + 0.018*\"box\" + 0.012*\"would\" + 0.012*\"one\" + 0.011*\"receiv\" + 0.010*\"open\"\n",
            "Topic: 1 \n",
            "Words: 0.046*\"price\" + 0.035*\"store\" + 0.034*\"amazon\" + 0.025*\"buy\" + 0.023*\"great\" + 0.022*\"product\" + 0.021*\"find\" + 0.019*\"not\" + 0.017*\"local\" + 0.014*\"order\"\n",
            "Topic: 2 \n",
            "Words: 0.070*\"coffe\" + 0.045*\"tea\" + 0.035*\"cup\" + 0.023*\"flavor\" + 0.022*\"not\" + 0.019*\"drink\" + 0.016*\"tast\" + 0.013*\"like\" + 0.010*\"good\" + 0.010*\"tri\"\n",
            "Topic: 3 \n",
            "Words: 0.029*\"love\" + 0.017*\"not\" + 0.014*\"year\" + 0.012*\"tri\" + 0.011*\"one\" + 0.010*\"friend\" + 0.009*\"time\" + 0.008*\"candi\" + 0.008*\"order\" + 0.008*\"get\"\n",
            "Topic: 4 \n",
            "Words: 0.032*\"chocol\" + 0.026*\"cooki\" + 0.023*\"bar\" + 0.023*\"not\" + 0.023*\"sugar\" + 0.016*\"use\" + 0.015*\"free\" + 0.014*\"mix\" + 0.014*\"butter\" + 0.013*\"peanut\"\n",
            "Topic: 5 \n",
            "Words: 0.043*\"food\" + 0.036*\"dog\" + 0.029*\"not\" + 0.020*\"treat\" + 0.020*\"cat\" + 0.017*\"love\" + 0.014*\"eat\" + 0.012*\"like\" + 0.011*\"one\" + 0.010*\"chew\"\n",
            "Topic: 6 \n",
            "Words: 0.025*\"not\" + 0.021*\"snack\" + 0.018*\"eat\" + 0.016*\"like\" + 0.016*\"tast\" + 0.015*\"good\" + 0.015*\"great\" + 0.014*\"calori\" + 0.013*\"cereal\" + 0.012*\"love\"\n",
            "Topic: 7 \n",
            "Words: 0.072*\"not\" + 0.047*\"tast\" + 0.044*\"like\" + 0.035*\"flavor\" + 0.021*\"tri\" + 0.018*\"good\" + 0.014*\"realli\" + 0.014*\"would\" + 0.013*\"one\" + 0.012*\"sweet\"\n",
            "Topic: 8 \n",
            "Words: 0.028*\"not\" + 0.021*\"use\" + 0.020*\"water\" + 0.014*\"hair\" + 0.014*\"drink\" + 0.013*\"product\" + 0.011*\"bottl\" + 0.010*\"work\" + 0.008*\"get\" + 0.008*\"coconut\"\n",
            "Topic: 9 \n",
            "Words: 0.024*\"use\" + 0.022*\"sauc\" + 0.016*\"cook\" + 0.016*\"make\" + 0.012*\"flavor\" + 0.011*\"add\" + 0.011*\"not\" + 0.011*\"oil\" + 0.011*\"salt\" + 0.010*\"hot\"\n"
          ],
          "name": "stdout"
        }
      ]
    },
    {
      "cell_type": "markdown",
      "metadata": {
        "id": "t6LFOM5XXCV8"
      },
      "source": [
        "## LDA on TF-IDF"
      ]
    },
    {
      "cell_type": "code",
      "metadata": {
        "id": "HsJRPsKKXE-Z"
      },
      "source": [
        "#building lda model on tf-idf vector\n",
        "lda_tfidf = LdaMulticore(tfidf_corpus, num_topics = 10, id2word = bow, passes = 5, workers = 3, random_state = 1)"
      ],
      "execution_count": 32,
      "outputs": []
    },
    {
      "cell_type": "code",
      "metadata": {
        "colab": {
          "base_uri": "https://localhost:8080/"
        },
        "id": "OwvNL6U6XYl4",
        "outputId": "8a7c41f3-74bc-4064-dd77-ed201d83131d"
      },
      "source": [
        "#topics from model\n",
        "for idx, topic in lda_tfidf.print_topics(-1):\n",
        "    print('Topic: {} \\nWords: {}'.format(idx, topic))"
      ],
      "execution_count": 33,
      "outputs": [
        {
          "output_type": "stream",
          "text": [
            "Topic: 0 \n",
            "Words: 0.011*\"price\" + 0.011*\"order\" + 0.011*\"amazon\" + 0.009*\"product\" + 0.009*\"store\" + 0.009*\"ship\" + 0.007*\"buy\" + 0.007*\"box\" + 0.006*\"find\" + 0.006*\"purchas\"\n",
            "Topic: 1 \n",
            "Words: 0.010*\"candi\" + 0.009*\"gift\" + 0.008*\"keurig\" + 0.008*\"cooki\" + 0.007*\"love\" + 0.007*\"chocol\" + 0.006*\"order\" + 0.005*\"great\" + 0.004*\"bought\" + 0.004*\"box\"\n",
            "Topic: 2 \n",
            "Words: 0.036*\"tea\" + 0.015*\"drink\" + 0.009*\"flavor\" + 0.008*\"tast\" + 0.007*\"water\" + 0.007*\"ginger\" + 0.006*\"like\" + 0.006*\"energi\" + 0.006*\"green\" + 0.006*\"not\"\n",
            "Topic: 3 \n",
            "Words: 0.014*\"sauc\" + 0.007*\"chicken\" + 0.006*\"use\" + 0.006*\"soup\" + 0.006*\"flavor\" + 0.006*\"salt\" + 0.006*\"noodl\" + 0.006*\"cook\" + 0.006*\"chees\" + 0.006*\"oil\"\n",
            "Topic: 4 \n",
            "Words: 0.009*\"coconut\" + 0.009*\"tast\" + 0.009*\"water\" + 0.008*\"sugar\" + 0.008*\"flavor\" + 0.007*\"drink\" + 0.007*\"chocol\" + 0.006*\"like\" + 0.006*\"syrup\" + 0.006*\"sweet\"\n",
            "Topic: 5 \n",
            "Words: 0.012*\"bar\" + 0.012*\"snack\" + 0.009*\"cereal\" + 0.009*\"peanut\" + 0.008*\"cooki\" + 0.008*\"chocol\" + 0.007*\"butter\" + 0.007*\"calori\" + 0.007*\"eat\" + 0.006*\"tast\"\n",
            "Topic: 6 \n",
            "Words: 0.015*\"gluten\" + 0.013*\"bread\" + 0.011*\"free\" + 0.010*\"flour\" + 0.010*\"pasta\" + 0.010*\"oatmeal\" + 0.009*\"bake\" + 0.009*\"oat\" + 0.008*\"cooki\" + 0.008*\"mix\"\n",
            "Topic: 7 \n",
            "Words: 0.054*\"coffe\" + 0.024*\"cup\" + 0.011*\"flavor\" + 0.009*\"roast\" + 0.008*\"brew\" + 0.008*\"strong\" + 0.007*\"starbuck\" + 0.007*\"tast\" + 0.007*\"bold\" + 0.007*\"blend\"\n",
            "Topic: 8 \n",
            "Words: 0.011*\"hair\" + 0.006*\"shampoo\" + 0.005*\"use\" + 0.005*\"product\" + 0.005*\"not\" + 0.004*\"condition\" + 0.004*\"work\" + 0.004*\"scalp\" + 0.004*\"water\" + 0.004*\"bottl\"\n",
            "Topic: 9 \n",
            "Words: 0.027*\"dog\" + 0.017*\"food\" + 0.016*\"cat\" + 0.014*\"treat\" + 0.009*\"love\" + 0.008*\"chew\" + 0.007*\"eat\" + 0.005*\"feed\" + 0.005*\"not\" + 0.005*\"one\"\n"
          ],
          "name": "stdout"
        }
      ]
    },
    {
      "cell_type": "markdown",
      "metadata": {
        "id": "HQoPCdKvfVdo"
      },
      "source": [
        "## Checking Performance on Unseen Data"
      ]
    },
    {
      "cell_type": "markdown",
      "metadata": {
        "id": "D0jUu2rkfvY5"
      },
      "source": [
        "### Performance on BoW LDA"
      ]
    },
    {
      "cell_type": "code",
      "metadata": {
        "colab": {
          "base_uri": "https://localhost:8080/"
        },
        "id": "RQ5fbf_dZzi8",
        "outputId": "bfc36f93-4675-4144-cab3-bb70264179a1"
      },
      "source": [
        "#predicting topic on unseen bow vector\n",
        "unseen_document = ['dog', 'food', 'not', 'taste', 'great']\n",
        "bow_vector = bow.doc2bow(unseen_document)\n",
        "for index, score in sorted(lda_bow[bow_vector], key=lambda tup: -1*tup[1]):\n",
        "    print(\"Score: {}\\t Topic: {}\".format(score, lda_bow.print_topic(index, 5)))"
      ],
      "execution_count": 34,
      "outputs": [
        {
          "output_type": "stream",
          "text": [
            "Score: 0.8199504613876343\t Topic: 0.043*\"food\" + 0.036*\"dog\" + 0.029*\"not\" + 0.020*\"treat\" + 0.020*\"cat\"\n",
            "Score: 0.02001105062663555\t Topic: 0.046*\"price\" + 0.035*\"store\" + 0.034*\"amazon\" + 0.025*\"buy\" + 0.023*\"great\"\n",
            "Score: 0.020007941871881485\t Topic: 0.025*\"not\" + 0.021*\"snack\" + 0.018*\"eat\" + 0.016*\"like\" + 0.016*\"tast\"\n",
            "Score: 0.020005034282803535\t Topic: 0.070*\"coffe\" + 0.045*\"tea\" + 0.035*\"cup\" + 0.023*\"flavor\" + 0.022*\"not\"\n",
            "Score: 0.02000500075519085\t Topic: 0.072*\"not\" + 0.047*\"tast\" + 0.044*\"like\" + 0.035*\"flavor\" + 0.021*\"tri\"\n",
            "Score: 0.020004939287900925\t Topic: 0.024*\"use\" + 0.022*\"sauc\" + 0.016*\"cook\" + 0.016*\"make\" + 0.012*\"flavor\"\n",
            "Score: 0.02000434324145317\t Topic: 0.029*\"love\" + 0.017*\"not\" + 0.014*\"year\" + 0.012*\"tri\" + 0.011*\"one\"\n",
            "Score: 0.020004283636808395\t Topic: 0.032*\"chocol\" + 0.026*\"cooki\" + 0.023*\"bar\" + 0.023*\"not\" + 0.023*\"sugar\"\n",
            "Score: 0.020003588870167732\t Topic: 0.045*\"not\" + 0.021*\"packag\" + 0.020*\"order\" + 0.020*\"product\" + 0.018*\"bag\"\n",
            "Score: 0.02000334858894348\t Topic: 0.028*\"not\" + 0.021*\"use\" + 0.020*\"water\" + 0.014*\"hair\" + 0.014*\"drink\"\n"
          ],
          "name": "stdout"
        }
      ]
    },
    {
      "cell_type": "markdown",
      "metadata": {
        "id": "WK1Kyg31fblY"
      },
      "source": [
        "By 82% probability, this sentence is assigned topic related to \"Domestic Animal Products\""
      ]
    },
    {
      "cell_type": "markdown",
      "metadata": {
        "id": "D3mGx0CIf1Nf"
      },
      "source": [
        "### Performance on TF-IDF LDA"
      ]
    },
    {
      "cell_type": "code",
      "metadata": {
        "colab": {
          "base_uri": "https://localhost:8080/"
        },
        "id": "Zfv4uuh1cd6D",
        "outputId": "9283124b-7221-4533-f85c-40b30469bc8e"
      },
      "source": [
        "#predicting topic on unseen tf-idf vector\n",
        "unseen_document = ['dog', 'food', 'not', 'taste', 'great']\n",
        "bow_vector = bow.doc2bow(unseen_document)\n",
        "tfidf_vector = tfidf[bow_vector]\n",
        "for index, score in sorted(lda_tfidf[tfidf_vector], key=lambda tup: -1*tup[1]):\n",
        "    print(\"Score: {}\\t Topic: {}\".format(score, lda_tfidf.print_topic(index, 5)))"
      ],
      "execution_count": 35,
      "outputs": [
        {
          "output_type": "stream",
          "text": [
            "Score: 0.6783929467201233\t Topic: 0.027*\"dog\" + 0.017*\"food\" + 0.016*\"cat\" + 0.014*\"treat\" + 0.009*\"love\"\n",
            "Score: 0.035735245794057846\t Topic: 0.012*\"bar\" + 0.012*\"snack\" + 0.009*\"cereal\" + 0.009*\"peanut\" + 0.008*\"cooki\"\n",
            "Score: 0.03573523461818695\t Topic: 0.011*\"price\" + 0.011*\"order\" + 0.011*\"amazon\" + 0.009*\"product\" + 0.009*\"store\"\n",
            "Score: 0.03573481738567352\t Topic: 0.015*\"gluten\" + 0.013*\"bread\" + 0.011*\"free\" + 0.010*\"flour\" + 0.010*\"pasta\"\n",
            "Score: 0.03573479503393173\t Topic: 0.054*\"coffe\" + 0.024*\"cup\" + 0.011*\"flavor\" + 0.009*\"roast\" + 0.008*\"brew\"\n",
            "Score: 0.03573440760374069\t Topic: 0.014*\"sauc\" + 0.007*\"chicken\" + 0.006*\"use\" + 0.006*\"soup\" + 0.006*\"flavor\"\n",
            "Score: 0.03573383390903473\t Topic: 0.010*\"candi\" + 0.009*\"gift\" + 0.008*\"keurig\" + 0.008*\"cooki\" + 0.007*\"love\"\n",
            "Score: 0.03573360666632652\t Topic: 0.036*\"tea\" + 0.015*\"drink\" + 0.009*\"flavor\" + 0.008*\"tast\" + 0.007*\"water\"\n",
            "Score: 0.03573327884078026\t Topic: 0.009*\"coconut\" + 0.009*\"tast\" + 0.009*\"water\" + 0.008*\"sugar\" + 0.008*\"flavor\"\n",
            "Score: 0.03573185205459595\t Topic: 0.011*\"hair\" + 0.006*\"shampoo\" + 0.005*\"use\" + 0.005*\"product\" + 0.005*\"not\"\n"
          ],
          "name": "stdout"
        }
      ]
    },
    {
      "cell_type": "markdown",
      "metadata": {
        "id": "ONMZGSkufqkL"
      },
      "source": [
        "By 68% probability, this sentence is assigned topic related to \"Domestic Animal Products\""
      ]
    },
    {
      "cell_type": "code",
      "metadata": {
        "id": "dUKGggYs0E9w"
      },
      "source": [
        ""
      ],
      "execution_count": null,
      "outputs": []
    }
  ]
}